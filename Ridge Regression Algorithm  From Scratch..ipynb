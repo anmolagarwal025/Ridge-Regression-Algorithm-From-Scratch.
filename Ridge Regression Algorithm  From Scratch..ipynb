{
 "cells": [
  {
   "cell_type": "markdown",
   "metadata": {},
   "source": [
    "## Here we will develope our Ridge Regression model from scratch"
   ]
  },
  {
   "cell_type": "markdown",
   "metadata": {},
   "source": [
    "###First We will import Original Ridge regression from sklearn library "
   ]
  },
  {
   "cell_type": "code",
   "execution_count": 1,
   "metadata": {},
   "outputs": [],
   "source": [
    "import pandas as pd\n",
    "import matplotlib.pyplot as plt\n",
    "import seaborn as sns\n",
    "import numpy as np\n",
    "from sklearn.datasets import load_diabetes\n",
    "from sklearn.model_selection import train_test_split\n",
    "from sklearn.linear_model import Ridge\n",
    "from sklearn.metrics import r2_score\n",
    "from sklearn.datasets import make_regression"
   ]
  },
  {
   "cell_type": "markdown",
   "metadata": {},
   "source": [
    "####First we will load the datasets for one independent and one dependent variable & apply Ridge on it"
   ]
  },
  {
   "cell_type": "code",
   "execution_count": 2,
   "metadata": {},
   "outputs": [],
   "source": [
    "X,y = make_regression(n_samples=200,n_features=1,n_informative=1,n_targets=1,noise=20,random_state=13) "
   ]
  },
  {
   "cell_type": "code",
   "execution_count": 3,
   "metadata": {},
   "outputs": [
    {
     "name": "stdout",
     "output_type": "stream",
     "text": [
      "(200, 1)\n",
      "(200,)\n"
     ]
    }
   ],
   "source": [
    "print(X.shape)\n",
    "print(y.shape) "
   ]
  },
  {
   "cell_type": "code",
   "execution_count": 4,
   "metadata": {},
   "outputs": [
    {
     "data": {
      "image/png": "[encoded data removed]",
      "text/plain": [
       "<Figure size 432x288 with 1 Axes>"
      ]
     },
     "metadata": {},
     "output_type": "display_data"
    }
   ],
   "source": [
    "sns.set() \n",
    "plt.scatter(X,y) \n",
    "plt.show() "
   ]
  },
  {
   "cell_type": "code",
   "execution_count": 5,
   "metadata": {},
   "outputs": [],
   "source": [
    "X1_train,X1_test,y1_train,y1_test = train_test_split(X,y,test_size=0.2,random_state=2) "
   ]
  },
  {
   "cell_type": "code",
   "execution_count": 6,
   "metadata": {},
   "outputs": [],
   "source": [
    "Ri1 = Ridge(alpha=1)  "
   ]
  },
  {
   "cell_type": "code",
   "execution_count": 7,
   "metadata": {},
   "outputs": [
    {
     "data": {
      "text/plain": [
       "Ridge(alpha=1)"
      ]
     },
     "execution_count": 7,
     "metadata": {},
     "output_type": "execute_result"
    }
   ],
   "source": [
    "Ri1.fit(X1_train,y1_train) "
   ]
  },
  {
   "cell_type": "code",
   "execution_count": 8,
   "metadata": {},
   "outputs": [
    {
     "data": {
      "text/plain": [
       "array([ -8.9506936 , -41.33897967, -18.49429115, -20.23392492,\n",
       "       -13.50225771,  45.5257972 , -13.14661036,  -1.10229248,\n",
       "       -24.41944592,  -2.79859874, -13.65165489,   6.32964924,\n",
       "        39.88684301,   1.23526704,  -9.00547467, -17.1314084 ,\n",
       "       -29.15202176, -36.88908081,  12.465675  ,  14.07307969,\n",
       "       -12.71979036,  -0.32046502, -23.07961056,   5.40249146,\n",
       "        -4.85963891,  10.11182589,  23.37517402,  -2.12534192,\n",
       "       -25.09168714,  -9.95397609, -16.55897383, -18.17090682,\n",
       "       -20.02235446,  17.30984302,  -9.12553773, -11.13025957,\n",
       "         9.20426297,   7.40487218, -18.26171969,  22.00392737])"
      ]
     },
     "execution_count": 8,
     "metadata": {},
     "output_type": "execute_result"
    }
   ],
   "source": [
    "y1_pred = Ri1.predict(X1_test) \n",
    "y1_pred"
   ]
  },
  {
   "cell_type": "code",
   "execution_count": 9,
   "metadata": {
    "scrolled": true
   },
   "outputs": [
    {
     "data": {
      "text/plain": [
       "0.3420496781457403"
      ]
     },
     "execution_count": 9,
     "metadata": {},
     "output_type": "execute_result"
    }
   ],
   "source": [
    "r2_score(y1_test,y1_pred) "
   ]
  },
  {
   "cell_type": "code",
   "execution_count": 10,
   "metadata": {
    "scrolled": true
   },
   "outputs": [
    {
     "data": {
      "text/plain": [
       "array([21.88688793])"
      ]
     },
     "execution_count": 10,
     "metadata": {},
     "output_type": "execute_result"
    }
   ],
   "source": [
    "Ri1.coef_"
   ]
  },
  {
   "cell_type": "code",
   "execution_count": 11,
   "metadata": {},
   "outputs": [
    {
     "data": {
      "text/plain": [
       "-1.539393818204702"
      ]
     },
     "execution_count": 11,
     "metadata": {},
     "output_type": "execute_result"
    }
   ],
   "source": [
    "Ri1.intercept_"
   ]
  },
  {
   "cell_type": "code",
   "execution_count": 12,
   "metadata": {},
   "outputs": [
    {
     "data": {
      "image/png": "[encoded data removed]",
      "text/plain": [
       "<Figure size 432x288 with 1 Axes>"
      ]
     },
     "metadata": {},
     "output_type": "display_data"
    }
   ],
   "source": [
    "sns.set() \n",
    "plt.scatter(X,y)\n",
    "plt.plot(X1_test,Ri1.predict(X1_test),color='red') \n",
    "plt.show() "
   ]
  },
  {
   "cell_type": "markdown",
   "metadata": {},
   "source": [
    "#####Now we load the dataset of multiple independent & one dependent variable & apply Ridge on it"
   ]
  },
  {
   "cell_type": "code",
   "execution_count": 13,
   "metadata": {},
   "outputs": [],
   "source": [
    "X,y = load_diabetes(return_X_y=True)  "
   ]
  },
  {
   "cell_type": "code",
   "execution_count": 14,
   "metadata": {},
   "outputs": [
    {
     "name": "stdout",
     "output_type": "stream",
     "text": [
      "(442, 10)\n",
      "(442,)\n"
     ]
    }
   ],
   "source": [
    "print(X.shape)\n",
    "print(y.shape) "
   ]
  },
  {
   "cell_type": "code",
   "execution_count": 15,
   "metadata": {},
   "outputs": [],
   "source": [
    "X_train,X_test,y_train,y_test = train_test_split(X,y,test_size=0.2,random_state=2) "
   ]
  },
  {
   "cell_type": "code",
   "execution_count": 16,
   "metadata": {},
   "outputs": [
    {
     "name": "stdout",
     "output_type": "stream",
     "text": [
      "(353, 10)\n",
      "(89, 10)\n",
      "(353,)\n",
      "(89,)\n"
     ]
    }
   ],
   "source": [
    "print(X_train.shape)\n",
    "print(X_test.shape)\n",
    "print(y_train.shape)\n",
    "print(y_test.shape) "
   ]
  },
  {
   "cell_type": "code",
   "execution_count": 17,
   "metadata": {},
   "outputs": [],
   "source": [
    "Ri = Ridge(alpha=0.1,solver='cholesky')  "
   ]
  },
  {
   "cell_type": "code",
   "execution_count": 18,
   "metadata": {},
   "outputs": [
    {
     "data": {
      "text/plain": [
       "Ridge(alpha=0.1, solver='cholesky')"
      ]
     },
     "execution_count": 18,
     "metadata": {},
     "output_type": "execute_result"
    }
   ],
   "source": [
    "Ri.fit(X_train,y_train) "
   ]
  },
  {
   "cell_type": "code",
   "execution_count": 19,
   "metadata": {},
   "outputs": [
    {
     "data": {
      "text/plain": [
       "array([152.3633031 , 200.37711396, 127.35659061, 105.51536087,\n",
       "       262.77747327, 247.34716602, 114.02139969, 116.72913595,\n",
       "        98.65701079, 186.99895269, 144.45192352, 170.18051694,\n",
       "       175.72799369, 136.46868338, 290.72901283,  90.82755846,\n",
       "       203.12204432, 149.57640625, 132.71492329, 126.89500778,\n",
       "       148.96141781, 171.11672376, 150.20696236, 175.09026538,\n",
       "       128.62317935, 217.08052343, 196.84876896, 102.28834332,\n",
       "        58.51609579, 234.60635703, 241.49142671, 113.61898242,\n",
       "        71.4984777 ,  97.9289529 , 202.87217033, 163.25518829,\n",
       "       159.96959925, 190.55501564, 114.78683196, 233.76968572,\n",
       "       141.55923012, 121.38689712, 189.3825298 , 185.29491397,\n",
       "       174.54957274, 144.51405894, 166.66176597, 293.48511004,\n",
       "       105.41855408, 168.49739731, 251.21994467, 142.92907654,\n",
       "       151.33209952, 118.74572758, 190.92878945,  93.32862947,\n",
       "       127.39159323,  76.30844339, 155.75736796, 157.44730263,\n",
       "       163.89619012, 160.2050392 , 103.16747069, 227.96792719,\n",
       "       144.69555065, 128.64580809, 161.51441526, 192.04113272,\n",
       "       121.72749575, 126.69036803, 216.70553823, 197.30498907,\n",
       "       125.63971112, 154.1731447 , 147.09567483, 114.19869427,\n",
       "        80.93374673,  81.05155876, 168.4584386 ,  83.76634561,\n",
       "        97.00279248,  97.38712758, 179.10060335, 272.80326069,\n",
       "       203.08105839, 146.65054809, 279.98735109, 201.00868564,\n",
       "       100.10016712])"
      ]
     },
     "execution_count": 19,
     "metadata": {},
     "output_type": "execute_result"
    }
   ],
   "source": [
    "y_pred = Ri.predict(X_test) \n",
    "y_pred"
   ]
  },
  {
   "cell_type": "code",
   "execution_count": 20,
   "metadata": {
    "scrolled": true
   },
   "outputs": [
    {
     "data": {
      "text/plain": [
       "0.4519973816947852"
      ]
     },
     "execution_count": 20,
     "metadata": {},
     "output_type": "execute_result"
    }
   ],
   "source": [
    "r2_score(y_test,y_pred) "
   ]
  },
  {
   "cell_type": "code",
   "execution_count": 21,
   "metadata": {},
   "outputs": [
    {
     "data": {
      "text/plain": [
       "array([   6.64275308, -172.24216584,  485.52387163,  314.68212174,\n",
       "        -72.93932312,  -80.59005344, -174.46651489,   83.61665316,\n",
       "        484.36328537,   73.58415414])"
      ]
     },
     "execution_count": 21,
     "metadata": {},
     "output_type": "execute_result"
    }
   ],
   "source": [
    "Ri.coef_"
   ]
  },
  {
   "cell_type": "code",
   "execution_count": 22,
   "metadata": {},
   "outputs": [
    {
     "data": {
      "text/plain": [
       "151.92548050708137"
      ]
     },
     "execution_count": 22,
     "metadata": {},
     "output_type": "execute_result"
    }
   ],
   "source": [
    "Ri.intercept_"
   ]
  },
  {
   "cell_type": "markdown",
   "metadata": {},
   "source": [
    "#### Now First we will Create our own Ridge regession for SINGLE VARIABLE."
   ]
  },
  {
   "cell_type": "code",
   "execution_count": 23,
   "metadata": {},
   "outputs": [],
   "source": [
    "class meraRidge:\n",
    "    \n",
    "    def __init__(self,alpha):\n",
    "        self.alpha = alpha\n",
    "        self.coef = None\n",
    "        self.intercept = None\n",
    "    \n",
    "    def fit(self,X1_train,y1_train):\n",
    "        x_mean = X1_train.mean() \n",
    "        y_mean = y1_train.mean() \n",
    "        c = 0\n",
    "        d = 0\n",
    "        for i in zip(X1_train,y1_train):\n",
    "            c = c + ((i[0]-x_mean)*(i[1]-y_mean))\n",
    "            d = d + (((i[0]-x_mean)*(i[0]-x_mean)))\n",
    "        self.coef = c/(d+self.alpha) \n",
    "        self.intercept = y_mean - self.coef * x_mean\n",
    "        return print('Ridge(alpha={})'.format(self.alpha))  \n",
    "    \n",
    "    def predict(self,X1_test):\n",
    "        return np.dot(X1_test,self.coef) + self.intercept"
   ]
  },
  {
   "cell_type": "code",
   "execution_count": 24,
   "metadata": {},
   "outputs": [],
   "source": [
    "Ri1 = meraRidge(alpha=1)  "
   ]
  },
  {
   "cell_type": "code",
   "execution_count": 25,
   "metadata": {
    "scrolled": true
   },
   "outputs": [
    {
     "name": "stdout",
     "output_type": "stream",
     "text": [
      "Ridge(alpha=1)\n"
     ]
    }
   ],
   "source": [
    "Ri1.fit(X1_train,y1_train) "
   ]
  },
  {
   "cell_type": "code",
   "execution_count": 26,
   "metadata": {},
   "outputs": [
    {
     "data": {
      "text/plain": [
       "array([ -8.9506936 , -41.33897967, -18.49429115, -20.23392492,\n",
       "       -13.50225771,  45.5257972 , -13.14661036,  -1.10229248,\n",
       "       -24.41944592,  -2.79859874, -13.65165489,   6.32964924,\n",
       "        39.88684301,   1.23526704,  -9.00547467, -17.1314084 ,\n",
       "       -29.15202176, -36.88908081,  12.465675  ,  14.07307969,\n",
       "       -12.71979036,  -0.32046502, -23.07961056,   5.40249146,\n",
       "        -4.85963891,  10.11182589,  23.37517402,  -2.12534192,\n",
       "       -25.09168714,  -9.95397609, -16.55897383, -18.17090682,\n",
       "       -20.02235446,  17.30984302,  -9.12553773, -11.13025957,\n",
       "         9.20426297,   7.40487218, -18.26171969,  22.00392737])"
      ]
     },
     "execution_count": 26,
     "metadata": {},
     "output_type": "execute_result"
    }
   ],
   "source": [
    "Ri1.predict(X1_test) "
   ]
  },
  {
   "cell_type": "code",
   "execution_count": 27,
   "metadata": {},
   "outputs": [
    {
     "data": {
      "text/plain": [
       "array([21.88688793])"
      ]
     },
     "execution_count": 27,
     "metadata": {},
     "output_type": "execute_result"
    }
   ],
   "source": [
    "Ri1.coef"
   ]
  },
  {
   "cell_type": "code",
   "execution_count": 28,
   "metadata": {},
   "outputs": [
    {
     "data": {
      "text/plain": [
       "array([-1.53939382])"
      ]
     },
     "execution_count": 28,
     "metadata": {},
     "output_type": "execute_result"
    }
   ],
   "source": [
    "Ri1.intercept"
   ]
  },
  {
   "cell_type": "code",
   "execution_count": 29,
   "metadata": {},
   "outputs": [],
   "source": [
    "# WE OUR GETTING THE SAME VALUES WITH OUR CODED MODEL; HENCE PROVED"
   ]
  },
  {
   "cell_type": "markdown",
   "metadata": {},
   "source": [
    "##Now we will Code Ridge regression for Multiple Variables or n variable "
   ]
  },
  {
   "cell_type": "code",
   "execution_count": 30,
   "metadata": {},
   "outputs": [],
   "source": [
    "class meraMRidge:\n",
    "    \n",
    "    def __init__(self,alpha):\n",
    "        self.alpha = alpha\n",
    "        self.coef = None\n",
    "        self.intercept = None\n",
    "        \n",
    "    def fit(self,X_train,y_train):\n",
    "        X_train = np.insert(X_train,0,1,axis=1) \n",
    "        I = np.identity(X_train.shape[1]) \n",
    "        result = np.linalg.inv(np.dot(X_train.T,X_train) + (self.alpha*I)).dot(X_train.T).dot(y_train) \n",
    "        self.intercept = result[0]\n",
    "        self.coef = result[1:]\n",
    "    \n",
    "    def predict(self,X_test):\n",
    "        return np.dot(X_test,self.coef) + self.intercept\n",
    "        "
   ]
  },
  {
   "cell_type": "code",
   "execution_count": 31,
   "metadata": {},
   "outputs": [],
   "source": [
    "Ri3 = meraMRidge(alpha=0.1) "
   ]
  },
  {
   "cell_type": "code",
   "execution_count": 32,
   "metadata": {},
   "outputs": [],
   "source": [
    "Ri3.fit(X_train,y_train) "
   ]
  },
  {
   "cell_type": "code",
   "execution_count": 33,
   "metadata": {},
   "outputs": [
    {
     "name": "stdout",
     "output_type": "stream",
     "text": [
      "[   6.64872075 -172.25405003  485.49370117  314.68963226  -72.93830784\n",
      "  -80.60280573 -174.45578798   83.57534367  484.39662215   73.58389565]\n",
      "151.88222786033788\n"
     ]
    }
   ],
   "source": [
    "print(Ri3.coef) \n",
    "print(Ri3.intercept)"
   ]
  },
  {
   "cell_type": "code",
   "execution_count": 34,
   "metadata": {},
   "outputs": [
    {
     "data": {
      "text/plain": [
       "array([152.32316023, 200.33184815, 127.31271981, 105.4754002 ,\n",
       "       262.73384817, 247.29450086, 113.98435928, 116.689254  ,\n",
       "        98.61924526, 186.95134513, 144.40848427, 170.13546362,\n",
       "       175.67868378, 136.42417158, 290.68619577,  90.79031129,\n",
       "       203.0777895 , 149.53746714, 132.67275539, 126.85077279,\n",
       "       148.91914077, 171.066919  , 150.15895727, 175.04775214,\n",
       "       128.58368617, 217.03037877, 196.80255536, 102.24526722,\n",
       "        58.4744874 , 234.55690001, 241.44071644, 113.57778857,\n",
       "        71.4571509 ,  97.88509524, 202.82955271, 163.20829678,\n",
       "       159.92548456, 190.50877052, 114.74622842, 233.7274182 ,\n",
       "       141.51422235, 121.34562507, 189.33428193, 185.24967287,\n",
       "       174.50509508, 144.46841713, 166.61673887, 293.43751481,\n",
       "       105.37498574, 168.45009169, 251.17752688, 142.8836114 ,\n",
       "       151.28782808, 118.69676022, 190.88610831,  93.28286277,\n",
       "       127.34402554,  76.26729513, 155.7144795 , 157.40234284,\n",
       "       163.85464847, 160.15736509, 103.1256558 , 227.92581552,\n",
       "       144.64804133, 128.59991199, 161.4729102 , 191.99543236,\n",
       "       121.68668829, 126.64621155, 216.66002151, 197.25955828,\n",
       "       125.59937966, 154.13222944, 147.05788456, 114.15482288,\n",
       "        80.89062881,  81.00799741, 168.41302014,  83.72399887,\n",
       "        96.95528592,  97.34070979, 179.0553816 , 272.7539355 ,\n",
       "       203.03734745, 146.60416739, 279.94221538, 200.96344443,\n",
       "       100.05841854])"
      ]
     },
     "execution_count": 34,
     "metadata": {},
     "output_type": "execute_result"
    }
   ],
   "source": [
    "Ri3.predict(X_test) "
   ]
  },
  {
   "cell_type": "markdown",
   "metadata": {},
   "source": [
    "##As we can se Sklearn model and our model is providing us same results."
   ]
  }
 ],
 "metadata": {
  "kernelspec": {
   "display_name": "Python 3",
   "language": "python",
   "name": "python3"
  },
  "language_info": {
   "codemirror_mode": {
    "name": "ipython",
    "version": 3
   },
   "file_extension": ".py",
   "mimetype": "text/x-python",
   "name": "python",
   "nbconvert_exporter": "python",
   "pygments_lexer": "ipython3",
   "version": "3.8.3"
  }
 },
 "nbformat": 4,
 "nbformat_minor": 4
}
